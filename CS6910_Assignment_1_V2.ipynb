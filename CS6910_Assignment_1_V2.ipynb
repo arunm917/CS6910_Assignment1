{
  "nbformat": 4,
  "nbformat_minor": 0,
  "metadata": {
    "colab": {
      "provenance": [],
      "collapsed_sections": [
        "5RH_78eMoUz_",
        "FURanER4HgN4",
        "zQAFW9LhIHSv"
      ],
      "authorship_tag": "ABX9TyP+VyPMpsou75Nx6o4GLXsP",
      "include_colab_link": true
    },
    "kernelspec": {
      "name": "python3",
      "display_name": "Python 3"
    },
    "language_info": {
      "name": "python"
    },
    "gpuClass": "standard",
    "widgets": {
      "application/vnd.jupyter.widget-state+json": {
        "035bf588e9d944b1a035ef0937ebc9eb": {
          "model_module": "@jupyter-widgets/controls",
          "model_name": "HBoxModel",
          "model_module_version": "1.5.0",
          "state": {
            "_dom_classes": [],
            "_model_module": "@jupyter-widgets/controls",
            "_model_module_version": "1.5.0",
            "_model_name": "HBoxModel",
            "_view_count": null,
            "_view_module": "@jupyter-widgets/controls",
            "_view_module_version": "1.5.0",
            "_view_name": "HBoxView",
            "box_style": "",
            "children": [
              "IPY_MODEL_e5a44d08fdbe405e9c13187b2d13790e",
              "IPY_MODEL_28c2432cc88e4b43ae82bdd053910896",
              "IPY_MODEL_1ddd303df96b4eb1a558a94210a17e4b"
            ],
            "layout": "IPY_MODEL_193076e844424517ab6189363778f80a"
          }
        },
        "e5a44d08fdbe405e9c13187b2d13790e": {
          "model_module": "@jupyter-widgets/controls",
          "model_name": "HTMLModel",
          "model_module_version": "1.5.0",
          "state": {
            "_dom_classes": [],
            "_model_module": "@jupyter-widgets/controls",
            "_model_module_version": "1.5.0",
            "_model_name": "HTMLModel",
            "_view_count": null,
            "_view_module": "@jupyter-widgets/controls",
            "_view_module_version": "1.5.0",
            "_view_name": "HTMLView",
            "description": "",
            "description_tooltip": null,
            "layout": "IPY_MODEL_8bd3d89dd29d499697df88bb28c9f7ce",
            "placeholder": "​",
            "style": "IPY_MODEL_d603415da7a748db99ddd15bb1336efa",
            "value": "100%"
          }
        },
        "28c2432cc88e4b43ae82bdd053910896": {
          "model_module": "@jupyter-widgets/controls",
          "model_name": "FloatProgressModel",
          "model_module_version": "1.5.0",
          "state": {
            "_dom_classes": [],
            "_model_module": "@jupyter-widgets/controls",
            "_model_module_version": "1.5.0",
            "_model_name": "FloatProgressModel",
            "_view_count": null,
            "_view_module": "@jupyter-widgets/controls",
            "_view_module_version": "1.5.0",
            "_view_name": "ProgressView",
            "bar_style": "success",
            "description": "",
            "description_tooltip": null,
            "layout": "IPY_MODEL_8979b9c230f24ab1b64d78a2dc5911cb",
            "max": 10,
            "min": 0,
            "orientation": "horizontal",
            "style": "IPY_MODEL_9e0f4e7d056c4bffaa7556bdb9d33cdb",
            "value": 10
          }
        },
        "1ddd303df96b4eb1a558a94210a17e4b": {
          "model_module": "@jupyter-widgets/controls",
          "model_name": "HTMLModel",
          "model_module_version": "1.5.0",
          "state": {
            "_dom_classes": [],
            "_model_module": "@jupyter-widgets/controls",
            "_model_module_version": "1.5.0",
            "_model_name": "HTMLModel",
            "_view_count": null,
            "_view_module": "@jupyter-widgets/controls",
            "_view_module_version": "1.5.0",
            "_view_name": "HTMLView",
            "description": "",
            "description_tooltip": null,
            "layout": "IPY_MODEL_66d20d214fe146979fe6da173fc8b907",
            "placeholder": "​",
            "style": "IPY_MODEL_0e82b991547842a19aded40f86d7d8f8",
            "value": " 10/10 [00:00&lt;00:00, 13.31epoch/s]"
          }
        },
        "193076e844424517ab6189363778f80a": {
          "model_module": "@jupyter-widgets/base",
          "model_name": "LayoutModel",
          "model_module_version": "1.2.0",
          "state": {
            "_model_module": "@jupyter-widgets/base",
            "_model_module_version": "1.2.0",
            "_model_name": "LayoutModel",
            "_view_count": null,
            "_view_module": "@jupyter-widgets/base",
            "_view_module_version": "1.2.0",
            "_view_name": "LayoutView",
            "align_content": null,
            "align_items": null,
            "align_self": null,
            "border": null,
            "bottom": null,
            "display": null,
            "flex": null,
            "flex_flow": null,
            "grid_area": null,
            "grid_auto_columns": null,
            "grid_auto_flow": null,
            "grid_auto_rows": null,
            "grid_column": null,
            "grid_gap": null,
            "grid_row": null,
            "grid_template_areas": null,
            "grid_template_columns": null,
            "grid_template_rows": null,
            "height": null,
            "justify_content": null,
            "justify_items": null,
            "left": null,
            "margin": null,
            "max_height": null,
            "max_width": null,
            "min_height": null,
            "min_width": null,
            "object_fit": null,
            "object_position": null,
            "order": null,
            "overflow": null,
            "overflow_x": null,
            "overflow_y": null,
            "padding": null,
            "right": null,
            "top": null,
            "visibility": null,
            "width": null
          }
        },
        "8bd3d89dd29d499697df88bb28c9f7ce": {
          "model_module": "@jupyter-widgets/base",
          "model_name": "LayoutModel",
          "model_module_version": "1.2.0",
          "state": {
            "_model_module": "@jupyter-widgets/base",
            "_model_module_version": "1.2.0",
            "_model_name": "LayoutModel",
            "_view_count": null,
            "_view_module": "@jupyter-widgets/base",
            "_view_module_version": "1.2.0",
            "_view_name": "LayoutView",
            "align_content": null,
            "align_items": null,
            "align_self": null,
            "border": null,
            "bottom": null,
            "display": null,
            "flex": null,
            "flex_flow": null,
            "grid_area": null,
            "grid_auto_columns": null,
            "grid_auto_flow": null,
            "grid_auto_rows": null,
            "grid_column": null,
            "grid_gap": null,
            "grid_row": null,
            "grid_template_areas": null,
            "grid_template_columns": null,
            "grid_template_rows": null,
            "height": null,
            "justify_content": null,
            "justify_items": null,
            "left": null,
            "margin": null,
            "max_height": null,
            "max_width": null,
            "min_height": null,
            "min_width": null,
            "object_fit": null,
            "object_position": null,
            "order": null,
            "overflow": null,
            "overflow_x": null,
            "overflow_y": null,
            "padding": null,
            "right": null,
            "top": null,
            "visibility": null,
            "width": null
          }
        },
        "d603415da7a748db99ddd15bb1336efa": {
          "model_module": "@jupyter-widgets/controls",
          "model_name": "DescriptionStyleModel",
          "model_module_version": "1.5.0",
          "state": {
            "_model_module": "@jupyter-widgets/controls",
            "_model_module_version": "1.5.0",
            "_model_name": "DescriptionStyleModel",
            "_view_count": null,
            "_view_module": "@jupyter-widgets/base",
            "_view_module_version": "1.2.0",
            "_view_name": "StyleView",
            "description_width": ""
          }
        },
        "8979b9c230f24ab1b64d78a2dc5911cb": {
          "model_module": "@jupyter-widgets/base",
          "model_name": "LayoutModel",
          "model_module_version": "1.2.0",
          "state": {
            "_model_module": "@jupyter-widgets/base",
            "_model_module_version": "1.2.0",
            "_model_name": "LayoutModel",
            "_view_count": null,
            "_view_module": "@jupyter-widgets/base",
            "_view_module_version": "1.2.0",
            "_view_name": "LayoutView",
            "align_content": null,
            "align_items": null,
            "align_self": null,
            "border": null,
            "bottom": null,
            "display": null,
            "flex": null,
            "flex_flow": null,
            "grid_area": null,
            "grid_auto_columns": null,
            "grid_auto_flow": null,
            "grid_auto_rows": null,
            "grid_column": null,
            "grid_gap": null,
            "grid_row": null,
            "grid_template_areas": null,
            "grid_template_columns": null,
            "grid_template_rows": null,
            "height": null,
            "justify_content": null,
            "justify_items": null,
            "left": null,
            "margin": null,
            "max_height": null,
            "max_width": null,
            "min_height": null,
            "min_width": null,
            "object_fit": null,
            "object_position": null,
            "order": null,
            "overflow": null,
            "overflow_x": null,
            "overflow_y": null,
            "padding": null,
            "right": null,
            "top": null,
            "visibility": null,
            "width": null
          }
        },
        "9e0f4e7d056c4bffaa7556bdb9d33cdb": {
          "model_module": "@jupyter-widgets/controls",
          "model_name": "ProgressStyleModel",
          "model_module_version": "1.5.0",
          "state": {
            "_model_module": "@jupyter-widgets/controls",
            "_model_module_version": "1.5.0",
            "_model_name": "ProgressStyleModel",
            "_view_count": null,
            "_view_module": "@jupyter-widgets/base",
            "_view_module_version": "1.2.0",
            "_view_name": "StyleView",
            "bar_color": null,
            "description_width": ""
          }
        },
        "66d20d214fe146979fe6da173fc8b907": {
          "model_module": "@jupyter-widgets/base",
          "model_name": "LayoutModel",
          "model_module_version": "1.2.0",
          "state": {
            "_model_module": "@jupyter-widgets/base",
            "_model_module_version": "1.2.0",
            "_model_name": "LayoutModel",
            "_view_count": null,
            "_view_module": "@jupyter-widgets/base",
            "_view_module_version": "1.2.0",
            "_view_name": "LayoutView",
            "align_content": null,
            "align_items": null,
            "align_self": null,
            "border": null,
            "bottom": null,
            "display": null,
            "flex": null,
            "flex_flow": null,
            "grid_area": null,
            "grid_auto_columns": null,
            "grid_auto_flow": null,
            "grid_auto_rows": null,
            "grid_column": null,
            "grid_gap": null,
            "grid_row": null,
            "grid_template_areas": null,
            "grid_template_columns": null,
            "grid_template_rows": null,
            "height": null,
            "justify_content": null,
            "justify_items": null,
            "left": null,
            "margin": null,
            "max_height": null,
            "max_width": null,
            "min_height": null,
            "min_width": null,
            "object_fit": null,
            "object_position": null,
            "order": null,
            "overflow": null,
            "overflow_x": null,
            "overflow_y": null,
            "padding": null,
            "right": null,
            "top": null,
            "visibility": null,
            "width": null
          }
        },
        "0e82b991547842a19aded40f86d7d8f8": {
          "model_module": "@jupyter-widgets/controls",
          "model_name": "DescriptionStyleModel",
          "model_module_version": "1.5.0",
          "state": {
            "_model_module": "@jupyter-widgets/controls",
            "_model_module_version": "1.5.0",
            "_model_name": "DescriptionStyleModel",
            "_view_count": null,
            "_view_module": "@jupyter-widgets/base",
            "_view_module_version": "1.2.0",
            "_view_name": "StyleView",
            "description_width": ""
          }
        }
      }
    }
  },
  "cells": [
    {
      "cell_type": "markdown",
      "metadata": {
        "id": "view-in-github",
        "colab_type": "text"
      },
      "source": [
        "<a href=\"https://colab.research.google.com/github/arunm917/CS6910_Assignment1/blob/main/CS6910_Assignment_1_V2.ipynb\" target=\"_parent\"><img src=\"https://colab.research.google.com/assets/colab-badge.svg\" alt=\"Open In Colab\"/></a>"
      ]
    },
    {
      "cell_type": "markdown",
      "source": [
        "# Importing packages"
      ],
      "metadata": {
        "id": "_Aqal939HNhx"
      }
    },
    {
      "cell_type": "code",
      "execution_count": 2,
      "metadata": {
        "id": "3iv-dm8IHFiD"
      },
      "outputs": [],
      "source": [
        "import numpy as np\n",
        "import pandas as pd\n",
        "import gdown\n",
        "import matplotlib.pyplot as plt\n",
        "from sklearn.preprocessing import StandardScaler, MinMaxScaler\n",
        "from sklearn.model_selection import train_test_split\n",
        "from sklearn.metrics import accuracy_score, mean_squared_error\n",
        "from tqdm.notebook import trange, tqdm\n",
        "from sklearn.metrics import mean_squared_error\n",
        "from sklearn.preprocessing import OneHotEncoder\n",
        "# import tensorflow as ts\n",
        "from tensorflow import keras\n",
        "from sklearn.metrics import accuracy_score, mean_squared_error, log_loss"
      ]
    },
    {
      "cell_type": "code",
      "source": [
        "!nvidia-smi"
      ],
      "metadata": {
        "colab": {
          "base_uri": "https://localhost:8080/"
        },
        "id": "PU8KN2rPmZog",
        "outputId": "259dc8ae-8fb2-408e-c973-6ce4330adf84"
      },
      "execution_count": 2,
      "outputs": [
        {
          "output_type": "stream",
          "name": "stdout",
          "text": [
            "NVIDIA-SMI has failed because it couldn't communicate with the NVIDIA driver. Make sure that the latest NVIDIA driver is installed and running.\n",
            "\n"
          ]
        }
      ]
    },
    {
      "cell_type": "markdown",
      "source": [
        "# Data preprocessing - fashion MNIST"
      ],
      "metadata": {
        "id": "5RH_78eMoUz_"
      }
    },
    {
      "cell_type": "code",
      "source": [
        "(X, y), (X_test, y_test) = keras.datasets.fashion_mnist.load_data()"
      ],
      "metadata": {
        "id": "L9o4nbueocl5",
        "colab": {
          "base_uri": "https://localhost:8080/"
        },
        "outputId": "a1688e80-1913-4c4a-ab18-eae916e333c3"
      },
      "execution_count": 3,
      "outputs": [
        {
          "output_type": "stream",
          "name": "stdout",
          "text": [
            "Downloading data from https://storage.googleapis.com/tensorflow/tf-keras-datasets/train-labels-idx1-ubyte.gz\n",
            "29515/29515 [==============================] - 0s 0us/step\n",
            "Downloading data from https://storage.googleapis.com/tensorflow/tf-keras-datasets/train-images-idx3-ubyte.gz\n",
            "26421880/26421880 [==============================] - 0s 0us/step\n",
            "Downloading data from https://storage.googleapis.com/tensorflow/tf-keras-datasets/t10k-labels-idx1-ubyte.gz\n",
            "5148/5148 [==============================] - 0s 0us/step\n",
            "Downloading data from https://storage.googleapis.com/tensorflow/tf-keras-datasets/t10k-images-idx3-ubyte.gz\n",
            "4422102/4422102 [==============================] - 0s 0us/step\n"
          ]
        }
      ]
    },
    {
      "cell_type": "code",
      "source": [
        "X_train, X_val, y_train, y_val = train_test_split(X, y, stratify=y, random_state=7, test_size = 0.2)"
      ],
      "metadata": {
        "id": "q42AW6dqE3jt"
      },
      "execution_count": 4,
      "outputs": []
    },
    {
      "cell_type": "code",
      "source": [
        "X_train_scaled = X_train.reshape(len(X_train),28*28)/255.0\n",
        "X_val_scaled = X_val.reshape(len(X_val),28*28)/255.0\n",
        "X_test_scaled = X_test.reshape(len(X_test),28*28)/255.0"
      ],
      "metadata": {
        "id": "1lOnsGYSq0YV"
      },
      "execution_count": 6,
      "outputs": []
    },
    {
      "cell_type": "markdown",
      "source": [
        "Encoding labels"
      ],
      "metadata": {
        "id": "RCN_Xp6OHz8u"
      }
    },
    {
      "cell_type": "code",
      "source": [
        "enc = OneHotEncoder()\n",
        "y_train_enc = enc.fit_transform(np.expand_dims(y_train,1)).toarray()\n",
        "y_val_enc = enc.fit_transform(np.expand_dims(y_val,1)).toarray()\n",
        "y_test_enc = enc.fit_transform(np.expand_dims(y_test,1)).toarray()\n",
        "print(y_train_enc.shape, y_val_enc.shape, y_test_enc.shape)"
      ],
      "metadata": {
        "colab": {
          "base_uri": "https://localhost:8080/"
        },
        "id": "CHgfHPrWHNJ_",
        "outputId": "ef173432-356c-47a3-ef28-67228cff5be0"
      },
      "execution_count": 38,
      "outputs": [
        {
          "output_type": "stream",
          "name": "stdout",
          "text": [
            "(48000, 10) (12000, 10) (10000, 10)\n"
          ]
        }
      ]
    },
    {
      "cell_type": "markdown",
      "source": [
        "Batching"
      ],
      "metadata": {
        "id": "iWHhmz9InIjr"
      }
    },
    {
      "cell_type": "code",
      "source": [
        "X_train_batch = X_train_scaled[0:1000,:]\n",
        "y_train_batch = y_train_enc[0:1000,:]"
      ],
      "metadata": {
        "id": "m8f50PPnnHm6"
      },
      "execution_count": 8,
      "outputs": []
    },
    {
      "cell_type": "code",
      "source": [
        "print(X_train_scaled.shape, y_train_enc.shape, X_train_batch.shape, y_train_batch.shape )"
      ],
      "metadata": {
        "colab": {
          "base_uri": "https://localhost:8080/"
        },
        "id": "q60obFRBo23w",
        "outputId": "b8c6b3e3-facd-4ed0-b043-20a00835394f"
      },
      "execution_count": 9,
      "outputs": [
        {
          "output_type": "stream",
          "name": "stdout",
          "text": [
            "(48000, 784) (48000, 10) (1000, 784) (1000, 10)\n"
          ]
        }
      ]
    },
    {
      "cell_type": "markdown",
      "source": [
        "# Initializations"
      ],
      "metadata": {
        "id": "F9mmePvZHTlv"
      }
    },
    {
      "cell_type": "code",
      "source": [
        "class Initialization:\n",
        "  \n",
        "  def initialize(self, sizes):\n",
        "    self.W = {}\n",
        "    self.B = {}\n",
        "    self.sizes = sizes\n",
        "    self.nh = len(sizes)-2\n",
        "\n",
        "    for i in range(self.nh + 1):\n",
        "      self.W[i+1] = np.random.randn(self.sizes[i+1], self.sizes[i])\n",
        "      self.B[i+1] = np.zeros((self.sizes[i+1],1))\n",
        "\n",
        "    return(self.W, self.B)\n",
        "    \n",
        "initial = Initialization()  #Instantiation for the class initialization"
      ],
      "metadata": {
        "id": "uoZUDSWvHcSw"
      },
      "execution_count": 11,
      "outputs": []
    },
    {
      "cell_type": "markdown",
      "source": [
        "# Hyperparameters"
      ],
      "metadata": {
        "id": "FURanER4HgN4"
      }
    },
    {
      "cell_type": "code",
      "source": [
        "class Hyperparameters:\n",
        "  epochs = 20\n",
        "  eta    = 1e-5\n",
        "\n",
        "hyper = Hyperparameters()"
      ],
      "metadata": {
        "id": "0OjAzV-QH-rH"
      },
      "execution_count": 42,
      "outputs": []
    },
    {
      "cell_type": "markdown",
      "source": [
        "# Activation functions"
      ],
      "metadata": {
        "id": "zQAFW9LhIHSv"
      }
    },
    {
      "cell_type": "code",
      "source": [
        "class ActivationFunctions:\n",
        "\n",
        "  def linear(self,W,b,x):\n",
        "    return (np.dot(W,x) + b)\n",
        "\n",
        "  def sigmoid(self, z):\n",
        "    return 1/(1+np.exp(-z))\n",
        "\n",
        "  def softmax(self, z):\n",
        "    return np.exp(z)/np.sum(np.exp(z))\n",
        "  \n",
        "  def grad_sigmoid(self,z):\n",
        "    return z*(1-z)\n",
        "\n",
        "\n",
        "act = ActivationFunctions()"
      ],
      "metadata": {
        "id": "gaYebnsAIJXs"
      },
      "execution_count": 63,
      "outputs": []
    },
    {
      "cell_type": "markdown",
      "source": [
        "# Loss Functions"
      ],
      "metadata": {
        "id": "1iklJTyvIPQI"
      }
    },
    {
      "cell_type": "code",
      "source": [
        "class LossFunctions:\n",
        "  def MSE(self, y, y_pred):\n",
        "    return (np.sum((y-y_pred)**2))/len(y)\n",
        "  \n",
        "  def cross_entropy(self, y, y_pred):\n",
        "    ce_loss = np.mean(np.sum(np.multiply(-y,np.log(y_pred)), axis = 0))\n",
        "    #ce_loss = log_loss(y,y_pred)\n",
        "    #print(log_loss(y,y_pred))\n",
        "    return(ce_loss)\n",
        "loss_functions = LossFunctions()"
      ],
      "metadata": {
        "id": "Ysm6kTMgIS42"
      },
      "execution_count": 61,
      "outputs": []
    },
    {
      "cell_type": "markdown",
      "source": [
        "# Learning Algorithms"
      ],
      "metadata": {
        "id": "ZQGzzm1ZIVsP"
      }
    },
    {
      "cell_type": "code",
      "source": [
        "class Optimizer:\n",
        "\n",
        "  def learning_algoithm(self, W, B, dW, dB, nh, learning_rate, optimizer):\n",
        "    if optimizer == 'SGD':\n",
        "      for i in range(nh + 1):\n",
        "        W[i+1] -= learning_rate * (dW[i+1])\n",
        "        B[i+1] -= learning_rate * (dB[i+1])\n",
        "  \n",
        "    return(W, B)\n",
        "\n",
        "opt = Optimizer()"
      ],
      "metadata": {
        "id": "ps_e-AyMIYzR"
      },
      "execution_count": 14,
      "outputs": []
    },
    {
      "cell_type": "markdown",
      "source": [
        "# Model"
      ],
      "metadata": {
        "id": "km6C0oq-IyOP"
      }
    },
    {
      "cell_type": "code",
      "source": [
        "class Model(Optimizer):\n",
        "    \n",
        "  def forward_prop(self, x,y):\n",
        "    self.A = {}\n",
        "    self.H = {}\n",
        "    self.x = x\n",
        "    self.y = y\n",
        "    loss_batch = 0\n",
        "    self.H[0] = self.x.T\n",
        "\n",
        "    for i in range(self.nh + 1):\n",
        "      self.A[i+1] = np.matmul(self.W[i+1], self.H[i]) + self.B[i+1]\n",
        "      self.H[i+1] = act.sigmoid(self.A[i+1])\n",
        "\n",
        "    y_pred = act.softmax(self.A[i+1])\n",
        "    #print(y_pred)\n",
        "    #print('Y = ', self.y.shape, 'Y_pred =', y_pred.shape)\n",
        "    loss_batch = loss_functions.cross_entropy(self.y.T ,y_pred)\n",
        "    self.loss_batch_store.append(loss_batch)\n",
        "    return(y_pred)\n",
        "  \n",
        "  def grad(self, x, y):\n",
        "\n",
        "    y_pred = self.forward_prop(x,y)\n",
        "    self.dW = {}\n",
        "    self.dB = {}\n",
        "    self.dA = {}\n",
        "    self.dH = {}\n",
        "    self.dA[self.nh + 1] = y_pred - y.T\n",
        "\n",
        "    for i in range(self.nh + 1 , 0, -1):\n",
        "      self.dW[i]      = np.matmul(self.dA[i],self.H[i-1].T)\n",
        "      self.dB[i]      = np.sum(self.dA[i], axis = 1).reshape(-1,1)\n",
        "      self.dH[i-1]    = np.matmul(self.W[i].T,self.dA[i])\n",
        "      self.dA[i-1]    = np.multiply(self.dH[i-1],act.grad_sigmoid(self.H[i-1]))\n",
        "    return (self.dW, self.dB)\n",
        "  \n",
        "  def fit(self, X, Y, epochs, learning_rate, hidden_layer_sizes, batch_size, optimizer):\n",
        "    \n",
        "    # x = X[0:batch_size,:]\n",
        "    # y = Y[0:batch_size,:]\n",
        "    #self.X = X\n",
        "    self.loss_epoc_store = []\n",
        "    self.nx = X.shape[1]\n",
        "    self.ny = Y.shape[1]\n",
        "    self.nh = len(hidden_layer_sizes)\n",
        "    self.sizes = [self.nx] + hidden_layer_sizes + [self.ny]\n",
        "    step = len(X)/batch_size\n",
        "    #print(len(X))\n",
        "    #print('step size =',step)\n",
        "    self.W, self.B = initial.initialize(self.sizes)\n",
        "\n",
        "    for i in trange(epochs, total=epochs, unit=\"epoch\"):\n",
        "      loss_epoc = 0\n",
        "      self.loss_batch_store = []\n",
        "      for i in range(0,len(X),batch_size):\n",
        "        self.x = X[i:i+batch_size,:]\n",
        "        self.y = Y[i:i+batch_size,:]\n",
        "        #print('y =', y)\n",
        "        self.grad(self.x,self.y)\n",
        "        self.W, self.B = opt.learning_algoithm(self.W, self.B, self.dW, self.dB, self.nh, learning_rate, optimizer)\n",
        "\n",
        "      loss_epoc = np.sum(self.loss_batch_store)/step\n",
        "      print('training loss = ', loss_epoc)\n",
        "      self.loss_epoc_store.append(loss_epoc)\n",
        "    \n",
        "    plt.plot(self.loss_epoc_store)\n",
        "    plt.xlabel('Epochs')\n",
        "    plt.ylabel('log_loss')\n",
        "    plt.show()\n",
        "\n",
        "model = Model()"
      ],
      "metadata": {
        "id": "m78pqHeerZZ3"
      },
      "execution_count": 62,
      "outputs": []
    },
    {
      "cell_type": "code",
      "source": [
        "model.fit(X_train_scaled, y_train_enc, 100, 1e-5, [512, 256], 25, optimizer = 'SGD')"
      ],
      "metadata": {
        "id": "wqISZGEjvyoP"
      },
      "execution_count": null,
      "outputs": []
    },
    {
      "cell_type": "code",
      "source": [
        "len(X_train_batch)"
      ],
      "metadata": {
        "colab": {
          "base_uri": "https://localhost:8080/"
        },
        "id": "Bbaorp0U2fYQ",
        "outputId": "c038f8bb-0afa-4fe7-d147-2036a7f5db23"
      },
      "execution_count": 56,
      "outputs": [
        {
          "output_type": "execute_result",
          "data": {
            "text/plain": [
              "1000"
            ]
          },
          "metadata": {},
          "execution_count": 56
        }
      ]
    },
    {
      "cell_type": "code",
      "source": [
        "batch_size = 25\n",
        "for i in range(0,len(X_train_batch),batch_size):\n",
        "  x = X_train_batch[i:i+batch_size,:]\n",
        "  y = y_train_batch[i:i+batch_size,:]\n",
        "  print(i)"
      ],
      "metadata": {
        "id": "I4BtUf2a2_5v"
      },
      "execution_count": null,
      "outputs": []
    },
    {
      "cell_type": "code",
      "source": [
        "x.shape"
      ],
      "metadata": {
        "colab": {
          "base_uri": "https://localhost:8080/"
        },
        "id": "j0MbP98y4pm9",
        "outputId": "a7c78319-92fc-4afa-cfcf-4f5058f36728"
      },
      "execution_count": 91,
      "outputs": [
        {
          "output_type": "execute_result",
          "data": {
            "text/plain": [
              "(25, 784)"
            ]
          },
          "metadata": {},
          "execution_count": 91
        }
      ]
    },
    {
      "cell_type": "code",
      "source": [
        "class Train:\n",
        "\n",
        "  \n",
        "\n",
        "    #     y_pred = self.forward_prop(x, hidden_layer_sizes)\n",
        "    #     loss = log_loss(y,y_pred)\n",
        "    #     loss_gd.append(loss)\n",
        "\n",
        "    #     for i in range(self.nh + 1):\n",
        "    #       self.W[i+1] -= learning_rate * (self.dW_sum[i+1]/m)\n",
        "    #       self.B[i+1] -= learning_rate * (self.dB_sum[i+1]/m)\n",
        "          \n",
        "    #   loss_per_epoc = (np.sum(loss_gd))/m\n",
        "    #   self.loss_per_epoc_store.append(loss_per_epoc)\n",
        "    #   print('training loss = ', loss_per_epoc, 'learning rate = ', learning_rate)\n",
        "    \n",
        "    # plt.plot(self.loss_per_epoc_store)\n",
        "    # plt.xlabel('Epochs')\n",
        "    # plt.ylabel('log_loss')\n",
        "    # plt.show()\n",
        "\n",
        "train = Train()"
      ],
      "metadata": {
        "id": "1-E9UdepYB1D"
      },
      "execution_count": null,
      "outputs": []
    },
    {
      "cell_type": "code",
      "source": [
        "train.fit(X_train_scaled, y_train_enc, 10, 1e-3, [512, 256], 25, 'sgd')"
      ],
      "metadata": {
        "colab": {
          "base_uri": "https://localhost:8080/",
          "height": 1000,
          "referenced_widgets": [
            "035bf588e9d944b1a035ef0937ebc9eb",
            "e5a44d08fdbe405e9c13187b2d13790e",
            "28c2432cc88e4b43ae82bdd053910896",
            "1ddd303df96b4eb1a558a94210a17e4b",
            "193076e844424517ab6189363778f80a",
            "8bd3d89dd29d499697df88bb28c9f7ce",
            "d603415da7a748db99ddd15bb1336efa",
            "8979b9c230f24ab1b64d78a2dc5911cb",
            "9e0f4e7d056c4bffaa7556bdb9d33cdb",
            "66d20d214fe146979fe6da173fc8b907",
            "0e82b991547842a19aded40f86d7d8f8"
          ]
        },
        "id": "yPrwGt-A-CBj",
        "outputId": "2da907a9-1a00-47d4-d5f9-8384bf19c0d4"
      },
      "execution_count": null,
      "outputs": [
        {
          "output_type": "stream",
          "name": "stdout",
          "text": [
            "x (25, 784) y (25, 10)\n"
          ]
        },
        {
          "output_type": "display_data",
          "data": {
            "text/plain": [
              "  0%|          | 0/10 [00:00<?, ?epoch/s]"
            ],
            "application/vnd.jupyter.widget-view+json": {
              "version_major": 2,
              "version_minor": 0,
              "model_id": "035bf588e9d944b1a035ef0937ebc9eb"
            }
          },
          "metadata": {}
        },
        {
          "output_type": "stream",
          "name": "stdout",
          "text": [
            "forward prop\n",
            "nx = 784\n",
            "nh = 2\n",
            "sizes = [784, 512, 256, 10]\n",
            "W = 1 (512, 784)\n",
            "B = 1 (512, 1)\n",
            "W = 2 (256, 512)\n",
            "B = 2 (256, 1)\n",
            "W = 3 (10, 256)\n",
            "B = 3 (10, 1)\n",
            "0\n",
            "A = 1 (512, 25)\n",
            "H = 1 (512, 25)\n",
            "1\n",
            "A = 2 (256, 25)\n",
            "H = 2 (256, 25)\n",
            "2\n",
            "A = 3 (10, 25)\n",
            "H = 3 (10, 25)\n",
            "y_pred = (10, 25)\n",
            "end of forward_prop\n",
            "dA 3 (10, 25)\n",
            "dW 3 (10, 256)\n",
            "dB 3 (10, 1)\n",
            "dH 2 (256, 25)\n",
            "dA 2 (256, 25)\n",
            "dW 2 (256, 512)\n",
            "dB 2 (256, 1)\n",
            "dH 1 (512, 25)\n",
            "dA 1 (512, 25)\n",
            "dW 1 (512, 784)\n",
            "dB 1 (512, 1)\n",
            "dH 0 (784, 25)\n",
            "dA 0 (784, 25)\n",
            "forward prop\n",
            "nx = 784\n",
            "nh = 2\n",
            "sizes = [784, 512, 256, 10]\n",
            "W = 1 (512, 784)\n",
            "B = 1 (512, 1)\n",
            "W = 2 (256, 512)\n",
            "B = 2 (256, 1)\n",
            "W = 3 (10, 256)\n",
            "B = 3 (10, 1)\n",
            "0\n",
            "A = 1 (512, 25)\n",
            "H = 1 (512, 25)\n",
            "1\n",
            "A = 2 (256, 25)\n",
            "H = 2 (256, 25)\n",
            "2\n",
            "A = 3 (10, 25)\n",
            "H = 3 (10, 25)\n",
            "y_pred = (10, 25)\n",
            "end of forward_prop\n",
            "dA 3 (10, 25)\n",
            "dW 3 (10, 256)\n",
            "dB 3 (10, 1)\n",
            "dH 2 (256, 25)\n",
            "dA 2 (256, 25)\n",
            "dW 2 (256, 512)\n",
            "dB 2 (256, 1)\n",
            "dH 1 (512, 25)\n",
            "dA 1 (512, 25)\n",
            "dW 1 (512, 784)\n",
            "dB 1 (512, 1)\n",
            "dH 0 (784, 25)\n",
            "dA 0 (784, 25)\n",
            "forward prop\n",
            "nx = 784\n",
            "nh = 2\n",
            "sizes = [784, 512, 256, 10]\n",
            "W = 1 (512, 784)\n",
            "B = 1 (512, 1)\n",
            "W = 2 (256, 512)\n",
            "B = 2 (256, 1)\n",
            "W = 3 (10, 256)\n",
            "B = 3 (10, 1)\n",
            "0\n",
            "A = 1 (512, 25)\n",
            "H = 1 (512, 25)\n",
            "1\n",
            "A = 2 (256, 25)\n",
            "H = 2 (256, 25)\n",
            "2\n",
            "A = 3 (10, 25)\n",
            "H = 3 (10, 25)\n",
            "y_pred = (10, 25)\n",
            "end of forward_prop\n",
            "dA 3 (10, 25)\n",
            "dW 3 (10, 256)\n",
            "dB 3 (10, 1)\n",
            "dH 2 (256, 25)\n",
            "dA 2 (256, 25)\n",
            "dW 2 (256, 512)\n",
            "dB 2 (256, 1)\n",
            "dH 1 (512, 25)\n",
            "dA 1 (512, 25)\n",
            "dW 1 (512, 784)\n",
            "dB 1 (512, 1)\n",
            "dH 0 (784, 25)\n",
            "dA 0 (784, 25)\n",
            "forward prop\n",
            "nx = 784\n",
            "nh = 2\n",
            "sizes = [784, 512, 256, 10]\n",
            "W = 1 (512, 784)\n",
            "B = 1 (512, 1)\n",
            "W = 2 (256, 512)\n",
            "B = 2 (256, 1)\n",
            "W = 3 (10, 256)\n",
            "B = 3 (10, 1)\n",
            "0\n",
            "A = 1 (512, 25)\n",
            "H = 1 (512, 25)\n",
            "1\n",
            "A = 2 (256, 25)\n",
            "H = 2 (256, 25)\n",
            "2\n",
            "A = 3 (10, 25)\n",
            "H = 3 (10, 25)\n",
            "y_pred = (10, 25)\n",
            "end of forward_prop\n",
            "dA 3 (10, 25)\n",
            "dW 3 (10, 256)\n",
            "dB 3 (10, 1)\n",
            "dH 2 (256, 25)\n",
            "dA 2 (256, 25)\n",
            "dW 2 (256, 512)\n",
            "dB 2 (256, 1)\n",
            "dH 1 (512, 25)\n",
            "dA 1 (512, 25)\n",
            "dW 1 (512, 784)\n",
            "dB 1 (512, 1)\n",
            "dH 0 (784, 25)\n",
            "dA 0 (784, 25)\n",
            "forward prop\n",
            "nx = 784\n",
            "nh = 2\n",
            "sizes = [784, 512, 256, 10]\n",
            "W = 1 (512, 784)\n",
            "B = 1 (512, 1)\n",
            "W = 2 (256, 512)\n",
            "B = 2 (256, 1)\n",
            "W = 3 (10, 256)\n",
            "B = 3 (10, 1)\n",
            "0\n",
            "A = 1 (512, 25)\n",
            "H = 1 (512, 25)\n",
            "1\n",
            "A = 2 (256, 25)\n",
            "H = 2 (256, 25)\n",
            "2\n",
            "A = 3 (10, 25)\n",
            "H = 3 (10, 25)\n",
            "y_pred = (10, 25)\n",
            "end of forward_prop\n",
            "dA 3 (10, 25)\n",
            "dW 3 (10, 256)\n",
            "dB 3 (10, 1)\n",
            "dH 2 (256, 25)\n",
            "dA 2 (256, 25)\n",
            "dW 2 (256, 512)\n",
            "dB 2 (256, 1)\n",
            "dH 1 (512, 25)\n",
            "dA 1 (512, 25)\n",
            "dW 1 (512, 784)\n",
            "dB 1 (512, 1)\n",
            "dH 0 (784, 25)\n",
            "dA 0 (784, 25)\n",
            "forward prop\n",
            "nx = 784\n",
            "nh = 2\n",
            "sizes = [784, 512, 256, 10]\n",
            "W = 1 (512, 784)\n",
            "B = 1 (512, 1)\n",
            "W = 2 (256, 512)\n",
            "B = 2 (256, 1)\n",
            "W = 3 (10, 256)\n",
            "B = 3 (10, 1)\n",
            "0\n",
            "A = 1 (512, 25)\n",
            "H = 1 (512, 25)\n",
            "1\n",
            "A = 2 (256, 25)\n",
            "H = 2 (256, 25)\n",
            "2\n",
            "A = 3 (10, 25)\n",
            "H = 3 (10, 25)\n",
            "y_pred = (10, 25)\n",
            "end of forward_prop\n",
            "dA 3 (10, 25)\n",
            "dW 3 (10, 256)\n",
            "dB 3 (10, 1)\n",
            "dH 2 (256, 25)\n",
            "dA 2 (256, 25)\n",
            "dW 2 (256, 512)\n",
            "dB 2 (256, 1)\n",
            "dH 1 (512, 25)\n",
            "dA 1 (512, 25)\n",
            "dW 1 (512, 784)\n",
            "dB 1 (512, 1)\n",
            "dH 0 (784, 25)\n",
            "dA 0 (784, 25)\n",
            "forward prop\n",
            "nx = 784\n",
            "nh = 2\n",
            "sizes = [784, 512, 256, 10]\n",
            "W = 1 (512, 784)\n",
            "B = 1 (512, 1)\n",
            "W = 2 (256, 512)\n",
            "B = 2 (256, 1)\n",
            "W = 3 (10, 256)\n",
            "B = 3 (10, 1)\n",
            "0\n",
            "A = 1 (512, 25)\n",
            "H = 1 (512, 25)\n",
            "1\n",
            "A = 2 (256, 25)\n",
            "H = 2 (256, 25)\n",
            "2\n",
            "A = 3 (10, 25)\n",
            "H = 3 (10, 25)\n",
            "y_pred = (10, 25)\n",
            "end of forward_prop\n",
            "dA 3 (10, 25)\n",
            "dW 3 (10, 256)\n",
            "dB 3 (10, 1)\n",
            "dH 2 (256, 25)\n",
            "dA 2 (256, 25)\n",
            "dW 2 (256, 512)\n",
            "dB 2 (256, 1)\n",
            "dH 1 (512, 25)\n",
            "dA 1 (512, 25)\n",
            "dW 1 (512, 784)\n",
            "dB 1 (512, 1)\n",
            "dH 0 (784, 25)\n",
            "dA 0 (784, 25)\n",
            "forward prop\n",
            "nx = 784\n",
            "nh = 2\n",
            "sizes = [784, 512, 256, 10]\n",
            "W = 1 (512, 784)\n",
            "B = 1 (512, 1)\n",
            "W = 2 (256, 512)\n",
            "B = 2 (256, 1)\n",
            "W = 3 (10, 256)\n",
            "B = 3 (10, 1)\n",
            "0\n",
            "A = 1 (512, 25)\n",
            "H = 1 (512, 25)\n",
            "1\n",
            "A = 2 (256, 25)\n",
            "H = 2 (256, 25)\n",
            "2\n",
            "A = 3 (10, 25)\n",
            "H = 3 (10, 25)\n",
            "y_pred = (10, 25)\n",
            "end of forward_prop\n",
            "dA 3 (10, 25)\n",
            "dW 3 (10, 256)\n",
            "dB 3 (10, 1)\n",
            "dH 2 (256, 25)\n",
            "dA 2 (256, 25)\n",
            "dW 2 (256, 512)\n",
            "dB 2 (256, 1)\n",
            "dH 1 (512, 25)\n",
            "dA 1 (512, 25)\n",
            "dW 1 (512, 784)\n",
            "dB 1 (512, 1)\n",
            "dH 0 (784, 25)\n",
            "dA 0 (784, 25)\n",
            "forward prop\n",
            "nx = 784\n",
            "nh = 2\n",
            "sizes = [784, 512, 256, 10]\n",
            "W = 1 (512, 784)\n",
            "B = 1 (512, 1)\n",
            "W = 2 (256, 512)\n",
            "B = 2 (256, 1)\n",
            "W = 3 (10, 256)\n",
            "B = 3 (10, 1)\n",
            "0\n",
            "A = 1 (512, 25)\n",
            "H = 1 (512, 25)\n",
            "1\n",
            "A = 2 (256, 25)\n",
            "H = 2 (256, 25)\n",
            "2\n",
            "A = 3 (10, 25)\n",
            "H = 3 (10, 25)\n",
            "y_pred = (10, 25)\n",
            "end of forward_prop\n",
            "dA 3 (10, 25)\n",
            "dW 3 (10, 256)\n",
            "dB 3 (10, 1)\n",
            "dH 2 (256, 25)\n",
            "dA 2 (256, 25)\n",
            "dW 2 (256, 512)\n",
            "dB 2 (256, 1)\n",
            "dH 1 (512, 25)\n",
            "dA 1 (512, 25)\n",
            "dW 1 (512, 784)\n",
            "dB 1 (512, 1)\n",
            "dH 0 (784, 25)\n",
            "dA 0 (784, 25)\n",
            "forward prop\n",
            "nx = 784\n",
            "nh = 2\n",
            "sizes = [784, 512, 256, 10]\n",
            "W = 1 (512, 784)\n",
            "B = 1 (512, 1)\n",
            "W = 2 (256, 512)\n",
            "B = 2 (256, 1)\n",
            "W = 3 (10, 256)\n",
            "B = 3 (10, 1)\n",
            "0\n",
            "A = 1 (512, 25)\n",
            "H = 1 (512, 25)\n",
            "1\n",
            "A = 2 (256, 25)\n",
            "H = 2 (256, 25)\n",
            "2\n",
            "A = 3 (10, 25)\n",
            "H = 3 (10, 25)\n",
            "y_pred = (10, 25)\n",
            "end of forward_prop\n",
            "dA 3 (10, 25)\n",
            "dW 3 (10, 256)\n",
            "dB 3 (10, 1)\n",
            "dH 2 (256, 25)\n",
            "dA 2 (256, 25)\n",
            "dW 2 (256, 512)\n",
            "dB 2 (256, 1)\n",
            "dH 1 (512, 25)\n",
            "dA 1 (512, 25)\n",
            "dW 1 (512, 784)\n",
            "dB 1 (512, 1)\n",
            "dH 0 (784, 25)\n",
            "dA 0 (784, 25)\n"
          ]
        }
      ]
    }
  ]
}
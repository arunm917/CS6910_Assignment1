{
  "nbformat": 4,
  "nbformat_minor": 0,
  "metadata": {
    "colab": {
      "provenance": [],
      "collapsed_sections": [
        "_Aqal939HNhx",
        "xGDKTaMUQK1C"
      ],
      "authorship_tag": "ABX9TyNom5+fsyuRK8QKdOW40rEs",
      "include_colab_link": true
    },
    "kernelspec": {
      "name": "python3",
      "display_name": "Python 3"
    },
    "language_info": {
      "name": "python"
    },
    "widgets": {
      "application/vnd.jupyter.widget-state+json": {
        "9836d0ee42cb4d54bfcbe688a045700c": {
          "model_module": "@jupyter-widgets/controls",
          "model_name": "HBoxModel",
          "model_module_version": "1.5.0",
          "state": {
            "_dom_classes": [],
            "_model_module": "@jupyter-widgets/controls",
            "_model_module_version": "1.5.0",
            "_model_name": "HBoxModel",
            "_view_count": null,
            "_view_module": "@jupyter-widgets/controls",
            "_view_module_version": "1.5.0",
            "_view_name": "HBoxView",
            "box_style": "",
            "children": [
              "IPY_MODEL_f178a24c3d2943389e257c661d793b6e",
              "IPY_MODEL_f75008d840194ac4b2661cb66d030ec5",
              "IPY_MODEL_f6e5a7b81a4942d7bf0a68472a640739"
            ],
            "layout": "IPY_MODEL_c23ff6ea884e4fb7a1bba50e20e57904"
          }
        },
        "f178a24c3d2943389e257c661d793b6e": {
          "model_module": "@jupyter-widgets/controls",
          "model_name": "HTMLModel",
          "model_module_version": "1.5.0",
          "state": {
            "_dom_classes": [],
            "_model_module": "@jupyter-widgets/controls",
            "_model_module_version": "1.5.0",
            "_model_name": "HTMLModel",
            "_view_count": null,
            "_view_module": "@jupyter-widgets/controls",
            "_view_module_version": "1.5.0",
            "_view_name": "HTMLView",
            "description": "",
            "description_tooltip": null,
            "layout": "IPY_MODEL_ca349c6d57b640a3bdb5e029a1634869",
            "placeholder": "​",
            "style": "IPY_MODEL_bd3287a7a5964a358bac5ff7b380bfa7",
            "value": "100%"
          }
        },
        "f75008d840194ac4b2661cb66d030ec5": {
          "model_module": "@jupyter-widgets/controls",
          "model_name": "FloatProgressModel",
          "model_module_version": "1.5.0",
          "state": {
            "_dom_classes": [],
            "_model_module": "@jupyter-widgets/controls",
            "_model_module_version": "1.5.0",
            "_model_name": "FloatProgressModel",
            "_view_count": null,
            "_view_module": "@jupyter-widgets/controls",
            "_view_module_version": "1.5.0",
            "_view_name": "ProgressView",
            "bar_style": "success",
            "description": "",
            "description_tooltip": null,
            "layout": "IPY_MODEL_98c37b2cdff74f7983bc7f7d4d5453b7",
            "max": 2000,
            "min": 0,
            "orientation": "horizontal",
            "style": "IPY_MODEL_1b7357b880a643c3aac5f4b22871ea81",
            "value": 2000
          }
        },
        "f6e5a7b81a4942d7bf0a68472a640739": {
          "model_module": "@jupyter-widgets/controls",
          "model_name": "HTMLModel",
          "model_module_version": "1.5.0",
          "state": {
            "_dom_classes": [],
            "_model_module": "@jupyter-widgets/controls",
            "_model_module_version": "1.5.0",
            "_model_name": "HTMLModel",
            "_view_count": null,
            "_view_module": "@jupyter-widgets/controls",
            "_view_module_version": "1.5.0",
            "_view_name": "HTMLView",
            "description": "",
            "description_tooltip": null,
            "layout": "IPY_MODEL_613f74d96d2b4f5084c53efad4245622",
            "placeholder": "​",
            "style": "IPY_MODEL_9e241dea09e64b93945e4bd99d1bda3e",
            "value": " 2000/2000 [00:39&lt;00:00, 54.46epoch/s]"
          }
        },
        "c23ff6ea884e4fb7a1bba50e20e57904": {
          "model_module": "@jupyter-widgets/base",
          "model_name": "LayoutModel",
          "model_module_version": "1.2.0",
          "state": {
            "_model_module": "@jupyter-widgets/base",
            "_model_module_version": "1.2.0",
            "_model_name": "LayoutModel",
            "_view_count": null,
            "_view_module": "@jupyter-widgets/base",
            "_view_module_version": "1.2.0",
            "_view_name": "LayoutView",
            "align_content": null,
            "align_items": null,
            "align_self": null,
            "border": null,
            "bottom": null,
            "display": null,
            "flex": null,
            "flex_flow": null,
            "grid_area": null,
            "grid_auto_columns": null,
            "grid_auto_flow": null,
            "grid_auto_rows": null,
            "grid_column": null,
            "grid_gap": null,
            "grid_row": null,
            "grid_template_areas": null,
            "grid_template_columns": null,
            "grid_template_rows": null,
            "height": null,
            "justify_content": null,
            "justify_items": null,
            "left": null,
            "margin": null,
            "max_height": null,
            "max_width": null,
            "min_height": null,
            "min_width": null,
            "object_fit": null,
            "object_position": null,
            "order": null,
            "overflow": null,
            "overflow_x": null,
            "overflow_y": null,
            "padding": null,
            "right": null,
            "top": null,
            "visibility": null,
            "width": null
          }
        },
        "ca349c6d57b640a3bdb5e029a1634869": {
          "model_module": "@jupyter-widgets/base",
          "model_name": "LayoutModel",
          "model_module_version": "1.2.0",
          "state": {
            "_model_module": "@jupyter-widgets/base",
            "_model_module_version": "1.2.0",
            "_model_name": "LayoutModel",
            "_view_count": null,
            "_view_module": "@jupyter-widgets/base",
            "_view_module_version": "1.2.0",
            "_view_name": "LayoutView",
            "align_content": null,
            "align_items": null,
            "align_self": null,
            "border": null,
            "bottom": null,
            "display": null,
            "flex": null,
            "flex_flow": null,
            "grid_area": null,
            "grid_auto_columns": null,
            "grid_auto_flow": null,
            "grid_auto_rows": null,
            "grid_column": null,
            "grid_gap": null,
            "grid_row": null,
            "grid_template_areas": null,
            "grid_template_columns": null,
            "grid_template_rows": null,
            "height": null,
            "justify_content": null,
            "justify_items": null,
            "left": null,
            "margin": null,
            "max_height": null,
            "max_width": null,
            "min_height": null,
            "min_width": null,
            "object_fit": null,
            "object_position": null,
            "order": null,
            "overflow": null,
            "overflow_x": null,
            "overflow_y": null,
            "padding": null,
            "right": null,
            "top": null,
            "visibility": null,
            "width": null
          }
        },
        "bd3287a7a5964a358bac5ff7b380bfa7": {
          "model_module": "@jupyter-widgets/controls",
          "model_name": "DescriptionStyleModel",
          "model_module_version": "1.5.0",
          "state": {
            "_model_module": "@jupyter-widgets/controls",
            "_model_module_version": "1.5.0",
            "_model_name": "DescriptionStyleModel",
            "_view_count": null,
            "_view_module": "@jupyter-widgets/base",
            "_view_module_version": "1.2.0",
            "_view_name": "StyleView",
            "description_width": ""
          }
        },
        "98c37b2cdff74f7983bc7f7d4d5453b7": {
          "model_module": "@jupyter-widgets/base",
          "model_name": "LayoutModel",
          "model_module_version": "1.2.0",
          "state": {
            "_model_module": "@jupyter-widgets/base",
            "_model_module_version": "1.2.0",
            "_model_name": "LayoutModel",
            "_view_count": null,
            "_view_module": "@jupyter-widgets/base",
            "_view_module_version": "1.2.0",
            "_view_name": "LayoutView",
            "align_content": null,
            "align_items": null,
            "align_self": null,
            "border": null,
            "bottom": null,
            "display": null,
            "flex": null,
            "flex_flow": null,
            "grid_area": null,
            "grid_auto_columns": null,
            "grid_auto_flow": null,
            "grid_auto_rows": null,
            "grid_column": null,
            "grid_gap": null,
            "grid_row": null,
            "grid_template_areas": null,
            "grid_template_columns": null,
            "grid_template_rows": null,
            "height": null,
            "justify_content": null,
            "justify_items": null,
            "left": null,
            "margin": null,
            "max_height": null,
            "max_width": null,
            "min_height": null,
            "min_width": null,
            "object_fit": null,
            "object_position": null,
            "order": null,
            "overflow": null,
            "overflow_x": null,
            "overflow_y": null,
            "padding": null,
            "right": null,
            "top": null,
            "visibility": null,
            "width": null
          }
        },
        "1b7357b880a643c3aac5f4b22871ea81": {
          "model_module": "@jupyter-widgets/controls",
          "model_name": "ProgressStyleModel",
          "model_module_version": "1.5.0",
          "state": {
            "_model_module": "@jupyter-widgets/controls",
            "_model_module_version": "1.5.0",
            "_model_name": "ProgressStyleModel",
            "_view_count": null,
            "_view_module": "@jupyter-widgets/base",
            "_view_module_version": "1.2.0",
            "_view_name": "StyleView",
            "bar_color": null,
            "description_width": ""
          }
        },
        "613f74d96d2b4f5084c53efad4245622": {
          "model_module": "@jupyter-widgets/base",
          "model_name": "LayoutModel",
          "model_module_version": "1.2.0",
          "state": {
            "_model_module": "@jupyter-widgets/base",
            "_model_module_version": "1.2.0",
            "_model_name": "LayoutModel",
            "_view_count": null,
            "_view_module": "@jupyter-widgets/base",
            "_view_module_version": "1.2.0",
            "_view_name": "LayoutView",
            "align_content": null,
            "align_items": null,
            "align_self": null,
            "border": null,
            "bottom": null,
            "display": null,
            "flex": null,
            "flex_flow": null,
            "grid_area": null,
            "grid_auto_columns": null,
            "grid_auto_flow": null,
            "grid_auto_rows": null,
            "grid_column": null,
            "grid_gap": null,
            "grid_row": null,
            "grid_template_areas": null,
            "grid_template_columns": null,
            "grid_template_rows": null,
            "height": null,
            "justify_content": null,
            "justify_items": null,
            "left": null,
            "margin": null,
            "max_height": null,
            "max_width": null,
            "min_height": null,
            "min_width": null,
            "object_fit": null,
            "object_position": null,
            "order": null,
            "overflow": null,
            "overflow_x": null,
            "overflow_y": null,
            "padding": null,
            "right": null,
            "top": null,
            "visibility": null,
            "width": null
          }
        },
        "9e241dea09e64b93945e4bd99d1bda3e": {
          "model_module": "@jupyter-widgets/controls",
          "model_name": "DescriptionStyleModel",
          "model_module_version": "1.5.0",
          "state": {
            "_model_module": "@jupyter-widgets/controls",
            "_model_module_version": "1.5.0",
            "_model_name": "DescriptionStyleModel",
            "_view_count": null,
            "_view_module": "@jupyter-widgets/base",
            "_view_module_version": "1.2.0",
            "_view_name": "StyleView",
            "description_width": ""
          }
        }
      }
    }
  },
  "cells": [
    {
      "cell_type": "markdown",
      "metadata": {
        "id": "view-in-github",
        "colab_type": "text"
      },
      "source": [
        "<a href=\"https://colab.research.google.com/github/arunm917/CS6910_Assignment1/blob/main/CS6910_Assignment_1.ipynb\" target=\"_parent\"><img src=\"https://colab.research.google.com/assets/colab-badge.svg\" alt=\"Open In Colab\"/></a>"
      ]
    },
    {
      "cell_type": "markdown",
      "source": [
        "# Importing packages"
      ],
      "metadata": {
        "id": "_Aqal939HNhx"
      }
    },
    {
      "cell_type": "code",
      "execution_count": 1,
      "metadata": {
        "id": "3iv-dm8IHFiD"
      },
      "outputs": [],
      "source": [
        "import numpy as np\n",
        "import pandas as pd\n",
        "import gdown\n",
        "import matplotlib.pyplot as plt\n",
        "from sklearn.preprocessing import StandardScaler, MinMaxScaler\n",
        "from sklearn.model_selection import train_test_split\n",
        "from sklearn.metrics import accuracy_score, mean_squared_error\n",
        "from tqdm.notebook import trange, tqdm\n",
        "from sklearn.metrics import mean_squared_error"
      ]
    },
    {
      "cell_type": "markdown",
      "source": [
        "# Data preprocessing"
      ],
      "metadata": {
        "id": "xGDKTaMUQK1C"
      }
    },
    {
      "cell_type": "code",
      "source": [
        "# X = np.asarray([[2.5, 2.5], [4, -1], [1, -4], [-3, 1.25], [-2, -4], [1, 5]])\n",
        "# Y = [1, 1, 1, 0, 0, 0]\n",
        "# downloading existing perovskite file from gdrive\n",
        "output = 'mobile data'\n",
        "file_id = '14ZgjTbautWSaKS3EhkK6HzfLE_qeGRx9' # Google drive ID\n",
        "#Download the file\n",
        "gdown.download('https://drive.google.com/uc?id=' + file_id, output, quiet=False)\n",
        "print('DONE.')"
      ],
      "metadata": {
        "id": "w5VKNGSNQJ86",
        "colab": {
          "base_uri": "https://localhost:8080/"
        },
        "outputId": "69a5d62f-e6f1-4419-86a6-788eab0881bc"
      },
      "execution_count": 2,
      "outputs": [
        {
          "output_type": "stream",
          "name": "stderr",
          "text": [
            "Downloading...\n",
            "From: https://drive.google.com/uc?id=14ZgjTbautWSaKS3EhkK6HzfLE_qeGRx9\n",
            "To: /content/mobile data\n",
            "100%|██████████| 69.7k/69.7k [00:00<00:00, 22.0MB/s]"
          ]
        },
        {
          "output_type": "stream",
          "name": "stdout",
          "text": [
            "DONE.\n"
          ]
        },
        {
          "output_type": "stream",
          "name": "stderr",
          "text": [
            "\n"
          ]
        }
      ]
    },
    {
      "cell_type": "code",
      "source": [
        "data = pd.read_csv('mobile data')"
      ],
      "metadata": {
        "id": "3PHHHFDKjREq"
      },
      "execution_count": 3,
      "outputs": []
    },
    {
      "cell_type": "code",
      "source": [
        "data.shape"
      ],
      "metadata": {
        "colab": {
          "base_uri": "https://localhost:8080/"
        },
        "id": "2IVlg9MJkCMc",
        "outputId": "a0991e8b-cdc3-46bf-ec26-54e9260a42a1"
      },
      "execution_count": 4,
      "outputs": [
        {
          "output_type": "execute_result",
          "data": {
            "text/plain": [
              "(341, 88)"
            ]
          },
          "metadata": {},
          "execution_count": 4
        }
      ]
    },
    {
      "cell_type": "code",
      "source": [
        "X = data.drop('Rating', axis = 1)"
      ],
      "metadata": {
        "id": "4rUHq4IPlrAQ"
      },
      "execution_count": 5,
      "outputs": []
    },
    {
      "cell_type": "code",
      "source": [
        "Y = data['Rating'].values # Rating is out of 5"
      ],
      "metadata": {
        "id": "xHehNTgBmL-t"
      },
      "execution_count": 6,
      "outputs": []
    },
    {
      "cell_type": "code",
      "source": [
        "Y"
      ],
      "metadata": {
        "colab": {
          "base_uri": "https://localhost:8080/"
        },
        "id": "qAKp5OTbnAiB",
        "outputId": "1f8bcef3-85bb-4e93-b2a3-6709450016c9"
      },
      "execution_count": 7,
      "outputs": [
        {
          "output_type": "execute_result",
          "data": {
            "text/plain": [
              "array([4.5, 4.5, 4.4, 4.3, 4.4, 4.5, 4.3, 4.1, 4.3, 4.5, 4.5, 4. , 4.4,\n",
              "       4.4, 4.4, 4.4, 4.5, 4.4, 4.4, 4.4, 4.4, 4.5, 4.4, 4.3, 4.2, 4.3,\n",
              "       4.3, 4.6, 4.4, 4.5, 3.9, 4.2, 4.3, 4.2, 4.3, 4.3, 4.2, 4.4, 4.1,\n",
              "       3.8, 4.4, 4.6, 4.3, 4.5, 4.5, 4.2, 3.9, 4.3, 4. , 4.3, 4.3, 3.9,\n",
              "       4.2, 4.5, 4. , 4.6, 4.2, 2.8, 4.4, 4.3, 4.2, 4.4, 4.4, 4. , 4.4,\n",
              "       4.4, 4.1, 4.5, 4.3, 3.9, 4.3, 4.1, 4.1, 4.2, 3.4, 4.2, 4.6, 3.8,\n",
              "       4.3, 4.5, 4.2, 4.5, 4.5, 4. , 4.1, 4.4, 4.5, 4.1, 4.5, 4.3, 4.5,\n",
              "       3.9, 3.9, 4.4, 4.4, 4.4, 4. , 4.1, 4.1, 4.4, 4.3, 4.3, 4.2, 4.3,\n",
              "       3.4, 4.3, 4.3, 4.2, 4.6, 4.8, 4.4, 3.4, 3.7, 4.2, 4.3, 4.4, 4.3,\n",
              "       4.2, 4.1, 4.3, 4. , 3.9, 4.4, 4.4, 3.9, 3.1, 3.7, 4.2, 4.4, 4. ,\n",
              "       4. , 4.1, 4.2, 4.3, 4.2, 4.3, 4.1, 3.6, 4.1, 4. , 3.8, 3.7, 4.3,\n",
              "       4.1, 4.1, 4.5, 4. , 4.3, 3.6, 4.1, 4.5, 3.5, 4. , 4.3, 4.6, 3.5,\n",
              "       3.9, 4.1, 3.9, 3.8, 4.4, 4.3, 4. , 3.9, 4.4, 4.7, 3.9, 4.5, 3.7,\n",
              "       4. , 4.3, 4.1, 4.8, 4.1, 4. , 4.7, 4. , 4.1, 4. , 3.4, 4.1, 3.9,\n",
              "       3.1, 4.1, 3.7, 3.4, 3.9, 4.3, 4.1, 3.7, 3.8, 4. , 3.8, 4.6, 3.4,\n",
              "       3.3, 3.2, 3.5, 4.3, 4.1, 4. , 3.8, 4.3, 4.1, 4. , 3.8, 3.8, 3.9,\n",
              "       4.1, 3.7, 4.2, 4. , 4.2, 4.4, 4.1, 3.4, 4.2, 4.4, 3.9, 3.9, 4.4,\n",
              "       4.2, 4.5, 4.5, 4.2, 4. , 4.2, 3.5, 3.7, 4.3, 5. , 3.5, 4.4, 3.7,\n",
              "       4.3, 3.9, 4.3, 3.8, 3.8, 4.3, 5. , 4.1, 3. , 4.4, 3. , 4. , 4. ,\n",
              "       3.9, 3.9, 4.2, 2.8, 4.3, 3.3, 4.3, 4. , 4.2, 4.1, 4.2, 3.6, 3.5,\n",
              "       4.1, 4.6, 3.9, 4. , 3.8, 4.1, 2.5, 4.2, 3.7, 3.9, 4.1, 3. , 3.8,\n",
              "       4.6, 4.2, 3.4, 3.9, 4.5, 4.1, 3.3, 4.1, 4. , 3.3, 4.4, 3.8, 3.9,\n",
              "       3.6, 4.4, 4.1, 4.1, 4. , 3.5, 3. , 4.2, 4. , 3.9, 3.5, 3.4, 3.4,\n",
              "       4. , 3.6, 4. , 3.5, 4. , 4. , 3.7, 4.6, 4. , 4.1, 4. , 3.5, 4.1,\n",
              "       3.7, 4.4, 4.3, 4.1, 3.9, 3.4, 3.3, 3.9, 4. , 4.4, 4.5, 4.2, 3.8,\n",
              "       3.7, 4.2, 4.1, 4. , 3.9, 3.7, 4.2, 4. , 3.6, 3.6, 4.4, 3.8, 3.9,\n",
              "       4.1, 3.6, 4.3])"
            ]
          },
          "metadata": {},
          "execution_count": 7
        }
      ]
    },
    {
      "cell_type": "code",
      "source": [
        "threshold = 4.2\n",
        "data['class'] = (data['Rating'] >= threshold).astype(np.int)"
      ],
      "metadata": {
        "colab": {
          "base_uri": "https://localhost:8080/"
        },
        "id": "0QJ-516GmcqD",
        "outputId": "3eef623e-beb3-4c82-a28f-25dc8231a54a"
      },
      "execution_count": 8,
      "outputs": [
        {
          "output_type": "stream",
          "name": "stderr",
          "text": [
            "<ipython-input-8-34a1b5c4b940>:2: DeprecationWarning: `np.int` is a deprecated alias for the builtin `int`. To silence this warning, use `int` by itself. Doing this will not modify any behavior and is safe. When replacing `np.int`, you may wish to use e.g. `np.int64` or `np.int32` to specify the precision. If you wish to review your current use, check the release note link for additional information.\n",
            "Deprecated in NumPy 1.20; for more details and guidance: https://numpy.org/devdocs/release/1.20.0-notes.html#deprecations\n",
            "  data['class'] = (data['Rating'] >= threshold).astype(np.int)\n"
          ]
        }
      ]
    },
    {
      "cell_type": "code",
      "source": [
        "data['class'].value_counts(normalize = True)"
      ],
      "metadata": {
        "colab": {
          "base_uri": "https://localhost:8080/"
        },
        "id": "pcdyPzcrpNuf",
        "outputId": "96a1bf05-e055-40b7-818f-a422f3c2fedb"
      },
      "execution_count": 9,
      "outputs": [
        {
          "output_type": "execute_result",
          "data": {
            "text/plain": [
              "0    0.533724\n",
              "1    0.466276\n",
              "Name: class, dtype: float64"
            ]
          },
          "metadata": {},
          "execution_count": 9
        }
      ]
    },
    {
      "cell_type": "code",
      "source": [
        "Y_binarised = data['class'].values"
      ],
      "metadata": {
        "id": "aPI16P8tqPk-"
      },
      "execution_count": 10,
      "outputs": []
    },
    {
      "cell_type": "code",
      "source": [
        "(X_train, X_test, Y_train, Y_test) = train_test_split(X, Y, random_state = 0, stratify = Y_binarised)"
      ],
      "metadata": {
        "id": "TAfx7KayqXFo"
      },
      "execution_count": 11,
      "outputs": []
    },
    {
      "cell_type": "code",
      "source": [
        "print(X_train.shape)\n",
        "print(X_test.shape)"
      ],
      "metadata": {
        "colab": {
          "base_uri": "https://localhost:8080/"
        },
        "id": "YW2xrQlDtwAC",
        "outputId": "165afc7d-b1a2-4e6f-cf76-48f5b329d244"
      },
      "execution_count": 12,
      "outputs": [
        {
          "output_type": "stream",
          "name": "stdout",
          "text": [
            "(255, 87)\n",
            "(86, 87)\n"
          ]
        }
      ]
    },
    {
      "cell_type": "markdown",
      "source": [
        "### Standardization"
      ],
      "metadata": {
        "id": "ndGbbKocqY-X"
      }
    },
    {
      "cell_type": "code",
      "source": [
        "scaler = StandardScaler()\n",
        "X_scaled_train = scaler.fit_transform(X_train)\n",
        "X_scaled_test = scaler.transform(X_test)"
      ],
      "metadata": {
        "id": "hXdvgzButqyY"
      },
      "execution_count": 13,
      "outputs": []
    },
    {
      "cell_type": "code",
      "source": [
        "minmax_scaler = MinMaxScaler()\n",
        "Y_scaled_train = minmax_scaler.fit_transform(Y_train.reshape(-1,1))\n",
        "Y_scaled_test = minmax_scaler.transform(Y_test.reshape(-1,1))"
      ],
      "metadata": {
        "id": "GGMoZWD_xpJZ"
      },
      "execution_count": 14,
      "outputs": []
    },
    {
      "cell_type": "code",
      "source": [
        "scaled_threshold = list(minmax_scaler.transform(np.array([threshold]).reshape(1, -1)))[0][0]"
      ],
      "metadata": {
        "id": "7RKYrKAT3PN6"
      },
      "execution_count": 15,
      "outputs": []
    },
    {
      "cell_type": "code",
      "source": [
        "Y_binarised_train = (Y_scaled_train > scaled_threshold).astype(\"int\").ravel()\n",
        "Y_binarised_test = (Y_scaled_test > scaled_threshold).astype(\"int\").ravel()"
      ],
      "metadata": {
        "id": "3ZKRymhr3SLZ"
      },
      "execution_count": 16,
      "outputs": []
    },
    {
      "cell_type": "markdown",
      "source": [
        "# Initializations"
      ],
      "metadata": {
        "id": "F9mmePvZHTlv"
      }
    },
    {
      "cell_type": "code",
      "source": [
        "# class Initialization:\n",
        "#   W = np.random.randn(1, X_scaled_train.shape[1])\n",
        "#   b = 0\n",
        "  \n",
        "# initial = Initialization()  #Instantiation for the class initialization"
      ],
      "metadata": {
        "id": "uoZUDSWvHcSw"
      },
      "execution_count": null,
      "outputs": []
    },
    {
      "cell_type": "markdown",
      "source": [
        "# Hyperparameters"
      ],
      "metadata": {
        "id": "FURanER4HgN4"
      }
    },
    {
      "cell_type": "code",
      "source": [
        "class Hyperparameters:\n",
        "  epochs = 2000\n",
        "  eta    = 0.015\n",
        "\n",
        "hyper = Hyperparameters()"
      ],
      "metadata": {
        "id": "0OjAzV-QH-rH"
      },
      "execution_count": 17,
      "outputs": []
    },
    {
      "cell_type": "markdown",
      "source": [
        "# Activation functions"
      ],
      "metadata": {
        "id": "zQAFW9LhIHSv"
      }
    },
    {
      "cell_type": "code",
      "source": [
        "class ActivationFunctions:\n",
        "\n",
        "  def linear(self,W,b,x):\n",
        "    return (np.dot(W,x) + b)\n",
        "\n",
        "  def sigmoid(self, z):\n",
        "    return 1/(1+np.exp(-z))\n",
        "\n",
        "act = ActivationFunctions()"
      ],
      "metadata": {
        "id": "gaYebnsAIJXs"
      },
      "execution_count": 31,
      "outputs": []
    },
    {
      "cell_type": "markdown",
      "source": [
        "# Loss Functions"
      ],
      "metadata": {
        "id": "1iklJTyvIPQI"
      }
    },
    {
      "cell_type": "code",
      "source": [
        "class Loss:\n",
        "  def MSE(self, y, y_pred):\n",
        "    return (np.sum((y-y_pred)**2))/len(y)\n",
        "  \n",
        "  #def cross_entropy(self, y, y_pred):\n",
        "    \n",
        "loss = Loss()"
      ],
      "metadata": {
        "id": "Ysm6kTMgIS42"
      },
      "execution_count": 22,
      "outputs": []
    },
    {
      "cell_type": "markdown",
      "source": [
        "# Gradients"
      ],
      "metadata": {
        "id": "_uz-ncklIgSX"
      }
    },
    {
      "cell_type": "code",
      "source": [
        "class Gradients():\n",
        "\n",
        "  def grad_w (self, W, b, x, y):\n",
        "      y_pred = act.sigmoid(W, b, x)\n",
        "      #print('y_pred',y_pred)\n",
        "      return (y_pred - y)*y_pred*(1-y_pred)*x\n",
        "  \n",
        "  def grad_b (self, W, b, x, y):\n",
        "      y_pred = act.sigmoid(W, b, x)\n",
        "      return (y_pred - y)*y_pred*(1-y_pred)\n",
        "\n",
        "grad = Gradients()"
      ],
      "metadata": {
        "id": "L4SX4XEaIqM3"
      },
      "execution_count": 23,
      "outputs": []
    },
    {
      "cell_type": "markdown",
      "source": [
        "# Forward popagation"
      ],
      "metadata": {
        "id": "km6C0oq-IyOP"
      }
    },
    {
      "cell_type": "code",
      "source": [
        "class ForwardProp:\n",
        "  \n",
        "  def __init__(self, x, hidden_layer_sizes):\n",
        "    self.x = x\n",
        "    self.nx = len(x)\n",
        "    self.ny = 1  \n",
        "    self.nh = len(hidden_layer_sizes)\n",
        "    self.sizes = [self.nx] + hidden_layer_sizes + [self.ny]\n",
        "    print(self.sizes)\n",
        "\n",
        "  def forward_pass(self):\n",
        "\n",
        "    self.W = {}\n",
        "    self.B = {}\n",
        "    self.A = {}\n",
        "    self.H = {}\n",
        "\n",
        "    for i in range(self.nh + 1):\n",
        "      self.W[i+1] = np.random.randn(self.sizes[i+1], self.sizes[i])\n",
        "      self.B[i+1] = np.zeros((self.sizes[i+1],1))\n",
        "    \n",
        "    print('W',self.W)\n",
        "    print('B',self.B)\n",
        "\n",
        "    self.H[0] = self.x.reshape(-1,1)\n",
        "    for i in range(self.nh + 1):\n",
        "      self.A[i+1] = np.matmul(self.W[i+1], self.H[i]) + self.B[i+1] \n",
        "      self.H[i+1] = act.sigmoid(self.A[i+1])\n",
        "\n",
        "    return(self.H[self.nh + 1])\n",
        "    print(self.H[self.nh + 1])"
      ],
      "metadata": {
        "id": "m78pqHeerZZ3"
      },
      "execution_count": 88,
      "outputs": []
    },
    {
      "cell_type": "code",
      "source": [
        "x = np.array([1, 1])\n",
        "h_layers = [2]\n",
        "forward = ForwardProp(x,h_layers)\n",
        "forward.forward_pass()"
      ],
      "metadata": {
        "colab": {
          "base_uri": "https://localhost:8080/"
        },
        "id": "_yxEvpcBqGSF",
        "outputId": "0d92cce0-01ae-4085-c62a-0c3beab5cd26"
      },
      "execution_count": 98,
      "outputs": [
        {
          "output_type": "stream",
          "name": "stdout",
          "text": [
            "[2, 2, 1]\n",
            "W {1: array([[ 1.03271132, -0.73934411],\n",
            "       [ 1.68371244, -1.9107042 ]]), 2: array([[-0.06775912,  0.67217521]])}\n",
            "B {1: array([[0.],\n",
            "       [0.]]), 2: array([[0.]])}\n"
          ]
        },
        {
          "output_type": "execute_result",
          "data": {
            "text/plain": [
              "array([[0.56446229]])"
            ]
          },
          "metadata": {},
          "execution_count": 98
        }
      ]
    },
    {
      "cell_type": "markdown",
      "source": [
        "# Back Propagation"
      ],
      "metadata": {
        "id": "b_2-lfqQI1Se"
      }
    },
    {
      "cell_type": "markdown",
      "source": [
        "# Learning Algorithms"
      ],
      "metadata": {
        "id": "ZQGzzm1ZIVsP"
      }
    },
    {
      "cell_type": "code",
      "source": [
        "class LearningAlgorithms:\n",
        "\n",
        "  def gd(self, X, Y):\n",
        "\n",
        "    W = np.random.randn(1, X.shape[1])\n",
        "    b = 0\n",
        "    loss_gd = []\n",
        "\n",
        "    for i in trange(hyper.epochs, total=hyper.epochs, unit=\"epoch\"):\n",
        "      dw = 0\n",
        "      db = 0\n",
        "      \n",
        "      for x,y in zip(X,Y):\n",
        "        x = x.reshape(1,-1)\n",
        "        dw += grad.grad_w(W,b,x,y)\n",
        "        db += grad.grad_b(W,b,x,y)\n",
        "\n",
        "      W -= hyper.eta*dw\n",
        "      b -= hyper.eta*db\n",
        "      Y_pred = act.sigmoid(W, b, x)\n",
        "      loss_gd.append(loss.MSE(Y, Y_pred))\n",
        "      #print('W',W,'b',b)\n",
        "      #print('loss', loss.MSE(Y, Y_pred))\n",
        "\n",
        "    plt.plot(loss_gd)\n",
        "    plt.xlabel('Epochs')\n",
        "    plt.ylabel('Mean Squared Error')\n",
        "    plt.show()\n",
        "\n",
        "la = LearningAlgorithms()"
      ],
      "metadata": {
        "id": "ps_e-AyMIYzR"
      },
      "execution_count": 20,
      "outputs": []
    },
    {
      "cell_type": "markdown",
      "source": [
        "# Train"
      ],
      "metadata": {
        "id": "I8OKth2D6jFu"
      }
    },
    {
      "cell_type": "code",
      "source": [
        "la.gd(X_scaled_train, Y_scaled_train)"
      ],
      "metadata": {
        "colab": {
          "base_uri": "https://localhost:8080/",
          "height": 314,
          "referenced_widgets": [
            "9836d0ee42cb4d54bfcbe688a045700c",
            "f178a24c3d2943389e257c661d793b6e",
            "f75008d840194ac4b2661cb66d030ec5",
            "f6e5a7b81a4942d7bf0a68472a640739",
            "c23ff6ea884e4fb7a1bba50e20e57904",
            "ca349c6d57b640a3bdb5e029a1634869",
            "bd3287a7a5964a358bac5ff7b380bfa7",
            "98c37b2cdff74f7983bc7f7d4d5453b7",
            "1b7357b880a643c3aac5f4b22871ea81",
            "613f74d96d2b4f5084c53efad4245622",
            "9e241dea09e64b93945e4bd99d1bda3e"
          ]
        },
        "id": "4ftnjPMI6k3S",
        "outputId": "3c6ff3de-29b7-4bcd-a5a0-26d522de81ba"
      },
      "execution_count": 25,
      "outputs": [
        {
          "output_type": "display_data",
          "data": {
            "text/plain": [
              "  0%|          | 0/2000 [00:00<?, ?epoch/s]"
            ],
            "application/vnd.jupyter.widget-view+json": {
              "version_major": 2,
              "version_minor": 0,
              "model_id": "9836d0ee42cb4d54bfcbe688a045700c"
            }
          },
          "metadata": {}
        },
        {
          "output_type": "display_data",
          "data": {
            "text/plain": [
              "<Figure size 432x288 with 1 Axes>"
            ],
            "image/png": "[encoded data removed]"
          },
          "metadata": {
            "needs_background": "light"
          }
        }
      ]
    },
    {
      "cell_type": "code",
      "source": [
        "X_scaled_train.shape"
      ],
      "metadata": {
        "colab": {
          "base_uri": "https://localhost:8080/"
        },
        "id": "0D_irCZztqpt",
        "outputId": "2474bb9c-d548-4c1a-8fed-09e1362e13dc"
      },
      "execution_count": null,
      "outputs": [
        {
          "output_type": "execute_result",
          "data": {
            "text/plain": [
              "(255, 87)"
            ]
          },
          "metadata": {},
          "execution_count": 35
        }
      ]
    },
    {
      "cell_type": "code",
      "source": [
        "X.shape[1]"
      ],
      "metadata": {
        "colab": {
          "base_uri": "https://localhost:8080/"
        },
        "id": "oM9KZoXDvAKc",
        "outputId": "4e2fdc7f-c5c9-4cdb-9b03-f9322885f588"
      },
      "execution_count": null,
      "outputs": [
        {
          "output_type": "execute_result",
          "data": {
            "text/plain": [
              "87"
            ]
          },
          "metadata": {},
          "execution_count": 36
        }
      ]
    }
  ]
}